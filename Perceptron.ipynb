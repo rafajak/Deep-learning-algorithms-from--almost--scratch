{
 "cells": [
  {
   "cell_type": "code",
   "execution_count": 164,
   "metadata": {},
   "outputs": [
    {
     "name": "stdout",
     "output_type": "stream",
     "text": [
      "Initial weight matrix: [ 0.13650811 -0.13138876 -0.58580248] \n",
      "\n",
      "Final weight matrix: [ 0.33650811  0.26861124 -0.18580248] \n",
      "\n",
      "Example 1: [0 0 1] Prediction: 0 - True\n",
      "Example 2: [0 1 1] Prediction: 1 - True\n",
      "Example 3: [1 0 1] Prediction: 1 - True\n",
      "Example 4: [1 1 1] Prediction: 1 - True\n"
     ]
    }
   ],
   "source": [
    "\n",
    "''' Purpose: This script creates a perceptron that takes learns to act like an OR function. \n",
    "\n",
    "\n",
    "    training_data - Our data consists of 4 observations (each consisting of 3 binary features) and corresponding labels.\n",
    "    \n",
    "    unit_step - This function is needed to set a cut off between the two types of predictions (0/1) at 0.\n",
    "    \n",
    "    n_iter - Number of learning steps (ie. iterations) we want to perform\n",
    "    \n",
    "    learning_rate - Multiplier used for learning, deciding the length of each update step\n",
    "    \n",
    "    n_obs - Number of observations\n",
    "    \n",
    "    w - Initialization of weights. I opted for randn, which gives us a normal distribution with mean 0 and variance 1.\n",
    "\n",
    "\n",
    "'''\n",
    "\n",
    "import numpy as np\n",
    "from random import choice\n",
    "\n",
    "# Our data consists of 4 observations (each consisting of 3 binary features) and corresponding labels. \n",
    "training_data = [ (np.array([0,0,1]), 0), \n",
    "                 (np.array([0,1,1]), 1), \n",
    "                 (np.array([1,0,1]), 1), \n",
    "                 (np.array([1,1,1]), 1), ] \n",
    "\n",
    "# This function is needed to set a cut off between the two types of predictions (0/1) at 0.\n",
    "unit_step = lambda x: 0 if x < 0 else 1 \n",
    "\n",
    "n_iter = 100  \n",
    "\n",
    "learning_rate = 0.2 \n",
    "\n",
    "n_obs = len(training_data[0][0])\n",
    "\n",
    "w = np.random.randn(n_obs)\n",
    "\n",
    "print(\"Initial weight matrix: {} \\n\".format(w))\n",
    "\n",
    "\n",
    "    '''\n",
    "        Steps:\n",
    "        \n",
    "        1. Randomly select an observation\n",
    "        2. Make a prediction (ie. multiply weights by the data)\n",
    "        3. Update the error with the label assigned by the unit_step function\n",
    "        4. Update the weights.\n",
    "        \n",
    "    '''\n",
    "for i in range(n_iter):\n",
    "    \n",
    "    x,y = choice(training_data)\n",
    "    pred = np.dot(w,x)\n",
    "    error = y - unit_step(pred)\n",
    "    w += learning_rate * error * x\n",
    "\n",
    "print(\"Final weight matrix: {} \\n\".format(w))\n",
    "\n",
    "\n",
    "# Print predictions for each observations, followed by the validity of the prediction (True/False)\n",
    "\n",
    "for i in range(n_obs+1):\n",
    "    x, y = training_data[i]\n",
    "    result = unit_step(np.dot(w,x))\n",
    "    print(\"Example {}: {} Prediction: {} - {}\".format(i+1, x, result, result == y))\n"
   ]
  }
 ],
 "metadata": {
  "anaconda-cloud": {},
  "kernelspec": {
   "display_name": "Python [conda root]",
   "language": "python",
   "name": "conda-root-py"
  },
  "language_info": {
   "codemirror_mode": {
    "name": "ipython",
    "version": 3
   },
   "file_extension": ".py",
   "mimetype": "text/x-python",
   "name": "python",
   "nbconvert_exporter": "python",
   "pygments_lexer": "ipython3",
   "version": "3.5.2"
  }
 },
 "nbformat": 4,
 "nbformat_minor": 1
}
