{
 "cells": [
  {
   "cell_type": "code",
   "execution_count": null,
   "metadata": {
    "collapsed": true
   },
   "outputs": [],
   "source": [
    "import matplotlib.pyplot as plt\n",
    "\n",
    "\n",
    "\n",
    "def abline(slope, intercept):\n",
    "    \"\"\"Plot a line from slope and intercept\"\"\"\n",
    "    axes = plt.gca()\n",
    "    x_vals = np.array(axes.get_xlim())\n",
    "    y_vals = intercept + slope * x_vals\n",
    "    return plt.plot(x_vals, y_vals, '-')    \n",
    "\n",
    "\n",
    "\n",
    "training_data = [[0.5,5],[0.6,5.5],[0.8,6],[1.1,6.8],[1.4,7]]\n",
    "\n",
    "learning_rate = 0.2\n",
    "\n",
    "num_iterations = 1000\n",
    "\n",
    "m_grad = 0\n",
    "b_grad = 0\n",
    "\n",
    "m = 0\n",
    "b = 0\n",
    "\n",
    "x = []\n",
    "y = []\n",
    "for i,v in enumerate(training_data):\n",
    "    x.append(v[0])\n",
    "    y.append(v[1])\n",
    "\n",
    "for i in range(num_iterations):    \n",
    "    for obs in zip(x,y):\n",
    "\n",
    "        m_grad = -(2/num_iterations) * obs[0] * (obs[1] - (obs[0] * m + b))\n",
    "        b_grad = -(2/num_iterations) * (obs[1] - (obs[0] * m + b))\n",
    "#         print(\"m_grad: {}\".format(m_grad))\n",
    "#         print(\"b_grad: {}\".format(b_grad))\n",
    "\n",
    "    m -= learning_rate * m_grad\n",
    "    b -= learning_rate * b_grad\n",
    "    print(\"b: {}\".format(b))\n",
    "    print(\"m: {}\".format(m))\n",
    "\n",
    "plt.scatter(x,y)\n",
    "abline(m, b)\n",
    "\n",
    "plt.show()\n"
   ]
  }
 ],
 "metadata": {
  "kernelspec": {
   "display_name": "Python [conda root]",
   "language": "python",
   "name": "conda-root-py"
  },
  "language_info": {
   "codemirror_mode": {
    "name": "ipython",
    "version": 3
   },
   "file_extension": ".py",
   "mimetype": "text/x-python",
   "name": "python",
   "nbconvert_exporter": "python",
   "pygments_lexer": "ipython3",
   "version": "3.5.2"
  }
 },
 "nbformat": 4,
 "nbformat_minor": 1
}
