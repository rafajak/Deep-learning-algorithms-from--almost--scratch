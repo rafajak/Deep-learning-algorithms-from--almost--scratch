{
 "cells": [
  {
   "cell_type": "code",
   "execution_count": 132,
   "metadata": {
    "collapsed": true
   },
   "outputs": [],
   "source": [
    "import numpy as np\n",
    "import matplotlib.pyplot as plt"
   ]
  },
  {
   "cell_type": "code",
   "execution_count": 133,
   "metadata": {
    "collapsed": true
   },
   "outputs": [],
   "source": [
    "def abline(slope, intercept):\n",
    "    \"\"\"Plots a line from slope and intercept\"\"\"\n",
    "    axes = plt.gca()\n",
    "    x_vals = np.array(axes.get_xlim())\n",
    "    y_vals = intercept + slope * x_vals\n",
    "    return plt.plot(x_vals, y_vals, '-')    "
   ]
  },
  {
   "cell_type": "code",
   "execution_count": 134,
   "metadata": {
    "collapsed": true
   },
   "outputs": [],
   "source": [
    "training_data = [[0.6,3],[0.7,8],[1,10],[1,12],[1.2,14],[2,24],[2.5,27]]\n",
    "learning_rate = 0.1\n",
    "num_iterations = 100\n",
    "\n",
    "m = 1\n",
    "b = 1\n",
    "\n",
    "x = []\n",
    "y = []\n",
    "\n",
    "for i,v in enumerate(training_data):\n",
    "    x.append(v[0])\n",
    "    y.append(v[1])\n",
    "\n",
    "for n in range(num_iterations):  \n",
    "    \n",
    "    b_grad = 0\n",
    "    m_grad = 0\n",
    "\n",
    "    for i in range(0, len(training_data)):\n",
    "\n",
    "        b_grad += -(2/N) * (y[i] - ((m * x[i]) + b))\n",
    "        m_grad += -(2/N) * x[i] * (y[i] - ((m * x[i]) + b))  \n",
    "\n",
    "    b = b - (learning_rate * b_grad)\n",
    "    m = m - (learning_rate * m_grad)"
   ]
  },
  {
   "cell_type": "code",
   "execution_count": 135,
   "metadata": {},
   "outputs": [
    {
     "name": "stdout",
     "output_type": "stream",
     "text": [
      "final b after 100 iterations: -1.3531290104851799\n",
      "final m after 100 iterations: 11.953566063877116\n"
     ]
    }
   ],
   "source": [
    "    \n",
    "print(\"final b after {} iterations: {}\".format(num_iterations, b))\n",
    "print(\"final m after {} iterations: {}\".format(num_iterations, m))"
   ]
  },
  {
   "cell_type": "markdown",
   "metadata": {},
   "source": [
    " Let's plot our data and the line we achieved to see that it really worked."
   ]
  },
  {
   "cell_type": "code",
   "execution_count": 136,
   "metadata": {},
   "outputs": [
    {
     "data": {
      "image/png": "[encoded data removed]",
      "text/plain": [
       "<matplotlib.figure.Figure at 0x10d60cda0>"
      ]
     },
     "metadata": {},
     "output_type": "display_data"
    }
   ],
   "source": [
    "plt.scatter(np.array(training_data).T[0],np.array(training_data).T[1])\n",
    "abline(m, b)\n",
    "plt.show()"
   ]
  },
  {
   "cell_type": "markdown",
   "metadata": {},
   "source": [
    "If this isn't nice, I don't know what is."
   ]
  }
 ],
 "metadata": {
  "kernelspec": {
   "display_name": "Python 3",
   "language": "python",
   "name": "python3"
  },
  "language_info": {
   "codemirror_mode": {
    "name": "ipython",
    "version": 3
   },
   "file_extension": ".py",
   "mimetype": "text/x-python",
   "name": "python",
   "nbconvert_exporter": "python",
   "pygments_lexer": "ipython3",
   "version": "3.6.1"
  }
 },
 "nbformat": 4,
 "nbformat_minor": 1
}
