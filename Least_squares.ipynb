{
 "cells": [
  {
   "cell_type": "code",
   "execution_count": 123,
   "metadata": {
    "collapsed": true
   },
   "outputs": [],
   "source": [
    "import matplotlib.pyplot as plt\n",
    "import numpy as np"
   ]
  },
  {
   "cell_type": "code",
   "execution_count": 132,
   "metadata": {},
   "outputs": [
    {
     "data": {
      "text/plain": [
       "1.4"
      ]
     },
     "execution_count": 132,
     "metadata": {},
     "output_type": "execute_result"
    }
   ],
   "source": [
    "#least squares method \n",
    "\n",
    "def least_squares_error(m,b, coordinates):\n",
    "    ''' Returns the average sum of squared errors, given:\n",
    "    \n",
    "        m - slope,\n",
    "        b - intercept,\n",
    "        coordinates - list of x,y coordinates, e.g [[1,4],[2,8],[3,12]] '''\n",
    "    \n",
    "    \n",
    "    \n",
    "    sum_sqr_err = 0 \n",
    "    \n",
    "    for xy_pair in coordinates:\n",
    "        \n",
    "        y_hat = m * xy_pair[0] + b \n",
    "        sqr_err = (xy_pair[1] - y_hat) ** 2 \n",
    "        sum_sqr_err += sqr_err\n",
    "        \n",
    "    return sum_sqr_err / len(coordinates) \n",
    "    \n",
    "    \n",
    "# Example input       \n",
    "coordinates = [[1,2],[1,3],[2,1],[3,3],[4,3]]\n",
    "m = 1\n",
    "b = 0\n",
    "\n",
    "\n",
    "least_squares_error(m,b,coordinates)"
   ]
  },
  {
   "cell_type": "markdown",
   "metadata": {},
   "source": [
    "Let's see what our dataset and the line look like!"
   ]
  },
  {
   "cell_type": "code",
   "execution_count": 133,
   "metadata": {},
   "outputs": [],
   "source": [
    "coordinates_t = np.array(coordinates).T  #we need to transpose the inputs \n",
    "\n",
    "reg_y = [0]\n",
    "    \n",
    "for i in range(min(coordinates_t[0]), max(coordinates_t[0]+3)):\n",
    "    reg_y.append(m * i + b)\n",
    "      \n",
    "# reg_y =  np.array(reg_y).T"
   ]
  },
  {
   "cell_type": "code",
   "execution_count": 134,
   "metadata": {},
   "outputs": [
    {
     "data": {
      "image/png": "[encoded data removed]",
      "text/plain": [
       "<matplotlib.figure.Figure at 0x97765c0>"
      ]
     },
     "metadata": {},
     "output_type": "display_data"
    }
   ],
   "source": [
    "plt.scatter(coordinates_t[0],coordinates_t[1])\n",
    "plt.plot(reg_y)\n",
    "plt.xticks(np.arange(min(reg_y), max(reg_y)+1, 1.0))\n",
    "\n",
    "plt.show()"
   ]
  }
 ],
 "metadata": {
  "anaconda-cloud": {},
  "kernelspec": {
   "display_name": "Python [conda root]",
   "language": "python",
   "name": "conda-root-py"
  },
  "language_info": {
   "codemirror_mode": {
    "name": "ipython",
    "version": 3
   },
   "file_extension": ".py",
   "mimetype": "text/x-python",
   "name": "python",
   "nbconvert_exporter": "python",
   "pygments_lexer": "ipython3",
   "version": "3.5.2"
  }
 },
 "nbformat": 4,
 "nbformat_minor": 1
}
