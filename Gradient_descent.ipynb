{
 "cells": [
  {
   "cell_type": "code",
   "execution_count": 39,
   "metadata": {},
   "outputs": [
    {
     "name": "stdout",
     "output_type": "stream",
     "text": [
      "Iteration 0: x = 0.511875\n",
      "Iteration 10: x = 0.6541348509073133\n",
      "Iteration 20: x = 0.8294834969490578\n",
      "Iteration 30: x = 0.9823961521131122\n",
      "Iteration 40: x = 1.060658024670622\n",
      "Iteration 50: x = 1.0863327915502436\n",
      "Iteration 60: x = 1.0931781852835085\n",
      "Iteration 70: x = 1.0948887941282661\n",
      "Iteration 80: x = 1.0953090531640488\n",
      "Iteration 90: x = 1.0954118655290281\n",
      "The local minimum occurs at 1.0954357620260686\n"
     ]
    }
   ],
   "source": [
    "x = 0.5 # initial value of x\n",
    "learning_rate = 0.01\n",
    "num_iterations = 100 \n",
    "\n",
    "y = x**5 - 2*x**3 # let's assume this is our error function\n",
    "\n",
    "#the derivative of the error function\n",
    "def slope_at_x(x): \n",
    "    return 5 * x**4 - 6 * x**2\n",
    "\n",
    "# Move X to the right or left depending on the slope of the error function\n",
    "for i in range(num_iterations):\n",
    "    x -= learning_rate * slope_at_x(x)\n",
    "    \n",
    "    if i % 10 == 0:\n",
    "        print(\"Iteration {}: x = {}\".format(i,x))\n",
    "\n",
    "print(\"The local minimum occurs at {}\".format(x))"
   ]
  },
  {
   "cell_type": "code",
   "execution_count": null,
   "metadata": {
    "collapsed": true
   },
   "outputs": [],
   "source": []
  }
 ],
 "metadata": {
  "anaconda-cloud": {},
  "kernelspec": {
   "display_name": "Python [conda root]",
   "language": "python",
   "name": "conda-root-py"
  },
  "language_info": {
   "codemirror_mode": {
    "name": "ipython",
    "version": 3
   },
   "file_extension": ".py",
   "mimetype": "text/x-python",
   "name": "python",
   "nbconvert_exporter": "python",
   "pygments_lexer": "ipython3",
   "version": "3.5.2"
  }
 },
 "nbformat": 4,
 "nbformat_minor": 1
}
